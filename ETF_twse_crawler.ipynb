{
 "cells": [
  {
   "cell_type": "code",
   "execution_count": 12,
   "metadata": {},
   "outputs": [],
   "source": [
    "import requests\n",
    "import json\n",
    "import csv\n",
    "import time, datetime,os\n",
    "import random\n",
    "from bs4 import BeautifulSoup as bs"
   ]
  },
  {
   "cell_type": "code",
   "execution_count": null,
   "metadata": {
    "scrolled": true
   },
   "outputs": [],
   "source": [
    "dt = datetime.datetime.now()\n",
    "dt.year\n",
    "dt.month"
   ]
  },
  {
   "cell_type": "code",
   "execution_count": 14,
   "metadata": {},
   "outputs": [],
   "source": [
    "now = datetime.datetime.now()\n",
    "year_list = range (2004,now.year+1) #since 2007 to this year\n",
    "month_list = range(1,13)  # 12 months\n",
    "day_list = range(1,32) # 31 days"
   ]
  },
  {
   "cell_type": "code",
   "execution_count": null,
   "metadata": {
    "scrolled": true
   },
   "outputs": [],
   "source": [
    "for year in year_list:\n",
    "    for month in month_list:\n",
    "        for day in day_list:\n",
    "            if (dt.year == year and month > dt.month) :break  # break loop while month over current month\n",
    "            if ((month == 4 or month == 6 or month == 9 or month == 11) and day == 31 ) :continue # these 4 month only have 30 days\n",
    "            if (year == 2004 or year == 2008 or year == 2012 or year == 2016) :\n",
    "                if(month == 2 and day > 29) : continue # leap year --> there are 29 days in February\n",
    "            elif (month == 2 and day > 28) : continue # there are only 28 days in February\n",
    "            \n",
    "            yy  = str(year)\n",
    "            mm  = month\n",
    "            dd  = day\n",
    "            # E:\\KEN\\課程\\大四下\\資產管理策略與應用\\ETF追蹤\\ETF_history\n",
    "            directory = 'E:/KEN/課程/大四下/資產管理策略與應用/ETF追蹤/ETF_history'+'/' + str(yy) +'/'       #setting directory\n",
    "            filename = str(yy)+str(\"%02d\"%mm)+str(\"%02d\"%dd)+'.csv'          #setting file name\n",
    "            \n",
    "            smt = get_webmsg(year ,month ,day)           #put the data into smt \n",
    "            makedirs (year, month)                  #create directory function\n",
    "            write_csv (directory, filename, smt)    # write files into CSV\n",
    "            \n",
    "            sleep_time = random_time()\n",
    "            time.sleep(sleep_time)"
   ]
  },
  {
   "cell_type": "code",
   "execution_count": 15,
   "metadata": {},
   "outputs": [],
   "source": [
    "def get_webmsg (year, month , day):\n",
    "    date = str (year) + \"{0:0=2d}\".format(month) +\"{0:0=2d}\".format(day)  ## format is yyyymmdd\n",
    "    url_twse = 'http://www.twse.com.tw/exchangeReport/MI_INDEX?response=json&date='+date+'&type=0099P'\n",
    "    res =requests.post(url_twse,)\n",
    "    \n",
    "    # print(url_twse)\n",
    "    # print(res)\n",
    "    print(date)\n",
    "    \n",
    "    soup = bs(res.text , 'html.parser')\n",
    "    smt = json.loads(soup.text)     #convert data into json\n",
    "    return smt"
   ]
  },
  {
   "cell_type": "code",
   "execution_count": 16,
   "metadata": {},
   "outputs": [],
   "source": [
    "def write_csv(directory,filename,smt) :\n",
    "    if(smt['stat'] == '查詢日期小於93年2月11日，請重新查詢!' or smt['stat'] == '很抱歉，沒有符合條件的資料!'):\n",
    "        return\n",
    "    writefile = directory + filename               #set output file name\n",
    "    outputFile = open(writefile,'w',newline='')\n",
    "    outputWriter = csv.writer(outputFile)\n",
    "    head = ''.join(smt['title'].split())\n",
    "    a = [head,\"\"]\n",
    "    outputWriter.writerow(a)\n",
    "    outputWriter.writerow(smt['fields1'])\n",
    "    for data in (smt['data1']):\n",
    "        if('-' in data[9]):\n",
    "            data[9] = '-'\n",
    "        if('+' in data[9]):\n",
    "            data[9] = '+'\n",
    "        outputWriter.writerow(data)\n",
    "\n",
    "    outputFile.close()"
   ]
  },
  {
   "cell_type": "code",
   "execution_count": 17,
   "metadata": {},
   "outputs": [],
   "source": [
    "#create a directory in the current one doesn't exist\n",
    "def makedirs (year, month):\n",
    "    yy      = str(year)\n",
    "    mm       = str(month)\n",
    "    directory =  'E:/KEN/課程/大四下/資產管理策略與應用/ETF追蹤/ETF_history'+'/' + yy +'/'\n",
    "    if not os.path.isdir(directory):\n",
    "        os.makedirs (directory)  # os.makedirs able to create multi folders"
   ]
  },
  {
   "cell_type": "code",
   "execution_count": 20,
   "metadata": {},
   "outputs": [],
   "source": [
    "# random time ( 10 - 20 )\n",
    "def random_time():\n",
    "    return (math.floor(random.random()*10) + 11)"
   ]
  },
  {
   "cell_type": "code",
   "execution_count": null,
   "metadata": {},
   "outputs": [],
   "source": []
  }
 ],
 "metadata": {
  "kernelspec": {
   "display_name": "Python 3",
   "language": "python",
   "name": "python3"
  },
  "language_info": {
   "codemirror_mode": {
    "name": "ipython",
    "version": 3
   },
   "file_extension": ".py",
   "mimetype": "text/x-python",
   "name": "python",
   "nbconvert_exporter": "python",
   "pygments_lexer": "ipython3",
   "version": "3.6.5"
  }
 },
 "nbformat": 4,
 "nbformat_minor": 2
}
